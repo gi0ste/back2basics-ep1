{
 "cells": [
  {
   "cell_type": "markdown",
   "id": "f295e8dc-26bc-4a9b-93b1-17156f872347",
   "metadata": {},
   "source": [
    "## Step 1 Installing Required libraries\n",
    "This command installs the necessary libraries:\n",
    "\n",
    " - einops: A flexible library for tensor operations, providing simple and readable syntax for reshaping, rearranging, and aggregating tensors.requests: For making HTTP requests to load content from websites.\n",
    " - langchain: A framework for building applications using large language models (LLMs), enabling easy chaining of tasks like prompting, retrieval, and generation.\n",
    " - pymilvus: A client for interacting with the Milvus vector database.\n",
    " - sentence-transformers: A library used for generating embeddings (vector representations of text).\n",
    " - langchain-hugginfface: A dedicated LangChain package for integrating Hugging Face models, including embedding and LLM models.\n",
    " "
   ]
  },
  {
   "cell_type": "code",
   "execution_count": 9,
   "id": "f5578a28-5e3a-482b-a387-4c80332e1b60",
   "metadata": {},
   "outputs": [
    {
     "name": "stderr",
     "output_type": "stream",
     "text": [
      "huggingface/tokenizers: The current process just got forked, after parallelism has already been used. Disabling parallelism to avoid deadlocks...\n",
      "To disable this warning, you can either:\n",
      "\t- Avoid using `tokenizers` before the fork if possible\n",
      "\t- Explicitly set the environment variable TOKENIZERS_PARALLELISM=(true | false)\n"
     ]
    }
   ],
   "source": [
    "%%capture\n",
    "!pip install -q einops langchain-community pymilvus sentence-transformers langchain-huggingface\n"
   ]
  },
  {
   "cell_type": "code",
   "execution_count": 10,
   "id": "54c6ea76-9b67-4e6b-add8-fdb010924172",
   "metadata": {},
   "outputs": [],
   "source": [
    "import os\n",
    "#from langchain.embeddings.huggingface import HuggingFaceEmbeddings\n",
    "from langchain_huggingface import HuggingFaceEmbeddings\n",
    "from langchain_community.vectorstores import Milvus"
   ]
  },
  {
   "cell_type": "markdown",
   "id": "93aaf24e-18d1-42c3-912e-62999fdda9ed",
   "metadata": {},
   "source": [
    "## Configure Milvus Connection\n",
    "\n",
    "Here is the DB connection. Make sure to give a unique name to your collection"
   ]
  },
  {
   "cell_type": "code",
   "execution_count": 11,
   "id": "a9508025-dd4f-4a5c-aa4d-e19eeb26de48",
   "metadata": {},
   "outputs": [],
   "source": [
    "MILVUS_HOST = \"vectordb-milvus.milvus.svc.cluster.local\"\n",
    "MILVUS_PORT = 19530\n",
    "MILVUS_USERNAME = os.getenv('MILVUS_USERNAME')\n",
    "MILVUS_PASSWORD = os.getenv('MILVUS_PASSWORD')\n",
    "MILVUS_COLLECTION = \"splunk_appdynamics\""
   ]
  },
  {
   "cell_type": "markdown",
   "id": "bc732f36-379e-4ab0-9473-4cd9beba5811",
   "metadata": {},
   "source": [
    "## Initialize the connection"
   ]
  },
  {
   "cell_type": "code",
   "execution_count": 12,
   "id": "2d054a40-463b-451d-9cfe-f37a194a591b",
   "metadata": {},
   "outputs": [],
   "source": [
    "\n",
    "model_kwargs = {'device': 'cuda'}\n",
    "embeddings = HuggingFaceEmbeddings(\n",
    "    model_kwargs=model_kwargs,\n",
    "    show_progress=True\n",
    ")\n",
    "\n",
    "store = Milvus(\n",
    "    embedding_function=embeddings,\n",
    "    connection_args={\"host\": MILVUS_HOST, \"port\": MILVUS_PORT, \"user\": MILVUS_USERNAME, \"password\": MILVUS_PASSWORD},\n",
    "    collection_name=MILVUS_COLLECTION,\n",
    "    metadata_field=\"metadata\",\n",
    "    text_field=\"page_content\",\n",
    "    drop_old=False\n",
    "    )"
   ]
  },
  {
   "cell_type": "code",
   "execution_count": 15,
   "id": "8a467473-306d-4f73-a8b1-757da607049f",
   "metadata": {},
   "outputs": [
    {
     "data": {
      "application/vnd.jupyter.widget-view+json": {
       "model_id": "8633ed092e1d414181b0f4494a76345e",
       "version_major": 2,
       "version_minor": 0
      },
      "text/plain": [
       "Batches:   0%|          | 0/1 [00:00<?, ?it/s]"
      ]
     },
     "metadata": {},
     "output_type": "display_data"
    },
    {
     "name": "stdout",
     "output_type": "stream",
     "text": [
      "https://docs.appdynamics.com/appd/24.x/latest/en/application-monitoring/install-app-server-agents/agent-installer\n",
      "https://docs.appdynamics.com/appd/24.x/latest/en/application-monitoring/install-app-server-agents/agent-installer\n",
      "https://docs.appdynamics.com/appd/24.x/latest/en/application-monitoring/install-app-server-agents/agent-installer\n",
      "https://docs.appdynamics.com/appd/24.x/latest/en/application-monitoring/install-app-server-agents/agent-installer\n",
      "https://docs.appdynamics.com/appd/24.x/latest/en/application-monitoring/install-app-server-agents/agent-installer/deploy-an-agent-using-the-agent-installer-api\n"
     ]
    }
   ],
   "source": [
    "query=\"What is an appdynamics agent ?\"\n",
    "results = store.similarity_search_with_score(query, k=5, return_metadata=True)\n",
    "for result in results:\n",
    "    print(result[0].metadata['source'])"
   ]
  },
  {
   "cell_type": "code",
   "execution_count": 16,
   "id": "5efb3da3-f9cf-448a-974b-b594a93e8c74",
   "metadata": {},
   "outputs": [],
   "source": [
    "retriever = store.as_retriever(search_type=\"similarity\", search_kwargs={\"k\": 4})"
   ]
  },
  {
   "cell_type": "code",
   "execution_count": 17,
   "id": "8d05ef4b-8f2e-4e57-8399-d6d03009d95e",
   "metadata": {},
   "outputs": [
    {
     "data": {
      "application/vnd.jupyter.widget-view+json": {
       "model_id": "cf85a296cd1047d8b98c283e9758c602",
       "version_major": 2,
       "version_minor": 0
      },
      "text/plain": [
       "Batches:   0%|          | 0/1 [00:00<?, ?it/s]"
      ]
     },
     "metadata": {},
     "output_type": "display_data"
    },
    {
     "data": {
      "text/plain": [
       "[Document(metadata={'source': 'https://docs.appdynamics.com/appd/24.x/latest/en/application-monitoring/install-app-server-agents/agent-installer', 'title': 'Agent Installer', 'language': 'en'}, page_content='Deploys Java and\\xa0Machine Agents.\\xa0Automatically instruments applications.Assigns\\xa0unique\\xa0names to tiers and nodes.Upgrades and rollbacks the agents.\\n\\nDeploys Machine Agents.\\xa0\\n\\nYou can deploy other agents using the Getting Started Wizard.\\xa0Agent Installer OverviewThe Agent Installer works with these items:\\n\\n\\n\\nAgent Installer\\xa0-\\xa0Executable installer inside the\\xa0appdynamics-zero-agent-<version>.zip.\\xa0file (representing the Agent Installer Platform). The Agent Installer installs the Agent Installer Platform\\xa0with Java, and Machine Agents on a system.\\xa0You access the installer from the Controller UI.Decorator - Library responsible for automatically instrumenting new processes with Splunk AppDynamics APM agents. The library auto-instruments the application and auto-names tiers and nodes for the Controller.Agent Installer Platform\\xa0-\\xa0Software bundle that\\xa0manages\\xa0the Decorator,\\xa0Java Agent, and Machine Agent. Enables automatic instrumentation and reports the status of various processes to the Controller UI. Collective term for the decorator, agent\\xa0daemon, agent binaries.Downloader\\xa0-\\xa0Script (zero-agent.sh) that downloads individual zip files containing the Java and Machine (if applicable) Agents, and Agent Installer Platform.Watchdog\\xa0- Agents installed with the Agent Installer can be managed with the Watchdog\\xa0process.\\xa0Updater\\xa0- Responsible for the rollback and upgrade of the\\xa0monitoring agents.'),\n",
       " Document(metadata={'source': 'https://docs.appdynamics.com/appd/24.x/latest/en/application-monitoring/install-app-server-agents/agent-installer', 'title': 'Agent Installer', 'language': 'en'}, page_content='AppDynamics application agent installed, then the Machine Agent works with the following: application name selected, tier name: your hostname, and node name: hostname\\xa0<zero-agent-generated-hash-string>.\\xa0Use the Agent Installer to Deploy an Agent'),\n",
       " Document(metadata={'source': 'https://docs.appdynamics.com/appd/24.x/latest/en/application-monitoring/install-app-server-agents/agent-installer', 'title': 'Agent Installer', 'language': 'en'}, page_content='Agent Installer\\xa0-\\xa0Executable installer inside the\\xa0appdynamics-zero-agent-windows-64-<version>.zip.\\xa0file (representing the Agent Installer Platform). The Agent Installer installs the Agent Installer Platform\\xa0with Machine Agent on a system.\\xa0You access the installer from the Controller UI.Agent Installer Platform\\xa0-\\xa0Software bundle that\\xa0manages\\xa0the Machine Agent. Send metrics to the Controller UI. Collective term for the agent\\xa0daemon, agent binaries.Downloader\\xa0-\\xa0Script (zero-agent.ps1) that downloads individual zip files containing the Machine Agent, and the Agent Installer Platform.Watchdog\\xa0- Agents installed with the Agent Installer can be managed with the Watchdog\\xa0process.\\xa0Updater\\xa0- Responsible for the rollback and upgrade of the\\xa0monitoring agents.\\n\\nAgent Installer RequirementsThe Agent Installer requires the following components, permissions, and supported environments.\\xa0\\n\\n\\n\\n\\n\\n                        Applications will not instrument properly if file directories have their permissions changed by other processes, such as configuration management tools like Ansible.\\n        \\n\\nSplunk AppDynamics ComponentsThe Agent Installer requires\\xa0SaaS Controller => 20.6.0.\\xa0You also need\\xa0sufficient\\xa0APM licenses to use the Java and\\xa0Machine Agents. No additional license is required for the Agent Installer Platform.\\xa0\\xa0Configure and Unblock Your FirewallYou may need to configure your firewall rules to allow outgoing traffic to certain URLs including:Access to your Splunk AppDynamics Controller: <customername>.saas.appdyanamics.com/*\\xa0to allow APM traffic.Access to the Splunk AppDynamics download files site: accounts.appdynamics.com/downloads to download the agent binaries.Agent Installer Permission\\n\\n\\n\\n\\n\\nTo configure access and roles, you must either be the Splunk AppDynamics Account owner, or have Administrator permissions.'),\n",
       " Document(metadata={'source': 'https://docs.appdynamics.com/appd/24.x/latest/en/application-monitoring/install-app-server-agents/agent-installer', 'title': 'Agent Installer', 'language': 'en'}, page_content='24.5\\n                                            \\n\\n\\n24.4\\n                                            \\n\\n\\n24.3\\n                                            \\n\\n\\n24.2\\n                                            \\n\\n\\n24.1\\n                                            \\n\\n\\n\\n\\n\\n\\n\\n\\n\\n\\n\\n\\n\\n\\n\\n\\n\\n\\n\\n\\n\\n\\n\\n\\n\\n\\n\\n\\n\\n\\n\\n\\n\\n\\n\\n\\n\\n\\n\\n\\n\\n\\nSplunk AppDynamics SaaS\\nApplication Monitoring\\nInstall App Server Agents\\nCurrent: Agent Installer\\n\\n\\n\\n\\n\\nPDF\\n\\n\\n\\n\\nDownload PDF\\n\\n\\nDownload page Agent Installer.\\n\\n\\n\\n\\nCurrent page\\n\\n\\n\\nInclude child pages\\n\\n\\n\\nAll pages\\n\\n\\n\\n\\n\\n\\n\\nDownload\\n\\n\\nDownload\\n\\n\\nDownload\\n\\n\\nClose\\n\\n\\n\\n\\n\\n\\n\\nAgent Installer\\n\\n\\n\\n\\n\\n\\n\\n\\n\\n\\n\\nAgent Installer is in maintenance mode. Use Agent Management.\\n\\n\\n\\n\\nDeployment Support\\n\\n\\n\\n\\n\\n\\n\\n\\n\\n\\nThe Agent Installer requires microservices configuration performed by Splunk AppDynamics.\\n\\n\\nThe Agent Installer simplifies deployment to instrument your applications faster. You can manage applications instrumented by the Agent Installer with minimal code changes in\\xa0Monitoring Settings.Agent Installer Linux and Windows Operating Systems\\n\\n\\n\\nDeploys Java and\\xa0Machine Agents.\\xa0Automatically instruments applications.Assigns\\xa0unique\\xa0names to tiers and nodes.Upgrades and rollbacks the agents.\\n\\nDeploys Machine Agents.')]"
      ]
     },
     "execution_count": 17,
     "metadata": {},
     "output_type": "execute_result"
    }
   ],
   "source": [
    "docs = retriever.get_relevant_documents(query)\n",
    "docs"
   ]
  },
  {
   "cell_type": "code",
   "execution_count": null,
   "id": "b5cd82cb-3ffc-4fe1-8e40-d406ced74fb6",
   "metadata": {},
   "outputs": [],
   "source": []
  },
  {
   "cell_type": "code",
   "execution_count": null,
   "id": "fb489525-a79a-477f-b1b1-b8eb8f5ddf2c",
   "metadata": {},
   "outputs": [],
   "source": []
  }
 ],
 "metadata": {
  "kernelspec": {
   "display_name": "Python 3.11",
   "language": "python",
   "name": "python3"
  },
  "language_info": {
   "codemirror_mode": {
    "name": "ipython",
    "version": 3
   },
   "file_extension": ".py",
   "mimetype": "text/x-python",
   "name": "python",
   "nbconvert_exporter": "python",
   "pygments_lexer": "ipython3",
   "version": "3.11.9"
  }
 },
 "nbformat": 4,
 "nbformat_minor": 5
}
